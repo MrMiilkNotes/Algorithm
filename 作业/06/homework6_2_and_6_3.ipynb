{
 "cells": [
  {
   "cell_type": "code",
   "execution_count": 12,
   "metadata": {},
   "outputs": [],
   "source": [
    "L = [[],  # 占位，下面两个0元素也是占位\n",
    "    [0, 1, 2, 1, 1, 2],\n",
    "    [0, 1, 2, 1, 2, 2]\n",
    "]"
   ]
  },
  {
   "cell_type": "code",
   "execution_count": 13,
   "metadata": {},
   "outputs": [],
   "source": [
    "# 题目要求的递归，按 station 顺序输出\n",
    "def print_statipons(l_, n):\n",
    "    line = l_\n",
    "    if n != 1:\n",
    "        print_statipons(L[line][n - 1], n - 1)\n",
    "    print(\"line\", line, \", station\", n)"
   ]
  },
  {
   "cell_type": "code",
   "execution_count": 14,
   "metadata": {},
   "outputs": [
    {
     "name": "stdout",
     "output_type": "stream",
     "text": [
      "line 1 , station 1\n",
      "line 2 , station 2\n",
      "line 1 , station 3\n",
      "line 1 , station 4\n"
     ]
    }
   ],
   "source": [
    "print_statipons(1, 4)"
   ]
  },
  {
   "cell_type": "code",
   "execution_count": null,
   "metadata": {},
   "outputs": [],
   "source": []
  },
  {
   "cell_type": "code",
   "execution_count": 18,
   "metadata": {},
   "outputs": [],
   "source": [
    "S = [\n",
    "    [7, 9, 3, 4, 8, 4],\n",
    "    [8, 5, 6, 4, 5, 7]\n",
    "]\n",
    "t = [\n",
    "    [2, 2, 3, 1, 3, 4, 3],\n",
    "    [4, 2, 1, 2, 2, 1, 2]\n",
    "]"
   ]
  },
  {
   "cell_type": "code",
   "execution_count": 49,
   "metadata": {},
   "outputs": [],
   "source": [
    "def fast_way_dp(S, t):\n",
    "    cost_pre = [t[0][0] + S[0][0], t[1][0] + S[1][0]]\n",
    "    cost_now = [[], []]\n",
    "    L = [[], []]\n",
    "    for j in range(1, len(S[0])):\n",
    "        # 装配线0\n",
    "        if cost_pre[0] <= cost_pre[1] + t[1][j]:\n",
    "            L[0].append(0)\n",
    "            cost_now[0] = cost_pre[0] + S[0][j]\n",
    "        else:\n",
    "            L[0].append(1)\n",
    "            cost_now[0] = cost_pre[1] + S[0][j] + t[1][j]\n",
    "        # 装配线1\n",
    "        if cost_pre[1] <= cost_pre[0] + t[0][j]:\n",
    "            L[1].append(1)\n",
    "            cost_now[1] = cost_pre[1] + S[1][j]\n",
    "        else:\n",
    "            L[1].append(0)\n",
    "            cost_now[1] = cost_pre[0] + S[1][j] + t[0][j]\n",
    "        print(cost_pre)\n",
    "        cost_pre[0], cost_pre[1] = cost_now[0], cost_now[1]\n",
    "    print(cost_pre)\n",
    "    if cost_pre[0] + t[0][-1] < cost_pre[1] + t[1][-1]:\n",
    "        l_ = 0\n",
    "    else:\n",
    "        l_ = 1\n",
    "    return l_, L"
   ]
  },
  {
   "cell_type": "code",
   "execution_count": 50,
   "metadata": {},
   "outputs": [
    {
     "name": "stdout",
     "output_type": "stream",
     "text": [
      "[9, 12]\n",
      "[18, 16]\n",
      "[20, 22]\n",
      "[24, 25]\n",
      "[32, 30]\n",
      "[35, 37]\n"
     ]
    },
    {
     "data": {
      "text/plain": [
       "(0, [[0, 1, 0, 0, 1], [0, 1, 0, 1, 1]])"
      ]
     },
     "execution_count": 50,
     "metadata": {},
     "output_type": "execute_result"
    }
   ],
   "source": [
    "fast_way_dp(S, t)"
   ]
  },
  {
   "cell_type": "code",
   "execution_count": null,
   "metadata": {},
   "outputs": [],
   "source": []
  }
 ],
 "metadata": {
  "kernelspec": {
   "display_name": "Python 3",
   "language": "python",
   "name": "python3"
  },
  "language_info": {
   "codemirror_mode": {
    "name": "ipython",
    "version": 3
   },
   "file_extension": ".py",
   "mimetype": "text/x-python",
   "name": "python",
   "nbconvert_exporter": "python",
   "pygments_lexer": "ipython3",
   "version": "3.7.0"
  },
  "toc": {
   "base_numbering": 1,
   "nav_menu": {},
   "number_sections": true,
   "sideBar": true,
   "skip_h1_title": false,
   "title_cell": "Table of Contents",
   "title_sidebar": "Contents",
   "toc_cell": false,
   "toc_position": {},
   "toc_section_display": true,
   "toc_window_display": false
  }
 },
 "nbformat": 4,
 "nbformat_minor": 2
}
